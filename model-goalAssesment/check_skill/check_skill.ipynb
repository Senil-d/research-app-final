{
 "cells": [
  {
   "cell_type": "code",
   "execution_count": 1,
   "metadata": {},
   "outputs": [],
   "source": [
    "import pandas as pd\n",
    "import joblib\n",
    "\n",
    "df = pd.read_csv(\"check_skill.csv\")"
   ]
  },
  {
   "cell_type": "code",
   "execution_count": 5,
   "metadata": {},
   "outputs": [],
   "source": [
    "import pandas as pd\n",
    "\n",
    "class CareerSkillModel:\n",
    "    def __init__(self, csv_path=None):\n",
    "        self.df = pd.read_csv(csv_path) if csv_path else None\n",
    "\n",
    "    def predict(self, career_name):\n",
    "        row = self.df[self.df['Career'].str.lower() == career_name.lower()]\n",
    "        if row.empty:\n",
    "            return f\"No data found for career: {career_name}\"\n",
    "        skills = {}\n",
    "        for skill in ['Problem-Solving', 'Analytical', 'Artistic', 'Leadership']:\n",
    "            val = row.iloc[0][skill]\n",
    "            if pd.notna(val):\n",
    "                skills[skill] = val\n",
    "        justification = row.iloc[0]['Justification']\n",
    "        return {\n",
    "            \"Career\": career_name,\n",
    "            \"Required Skills\": skills,\n",
    "            \"Justification\": justification\n",
    "        }\n"
   ]
  },
  {
   "cell_type": "code",
   "execution_count": 6,
   "metadata": {},
   "outputs": [
    {
     "data": {
      "text/plain": [
       "['required_career_skill_model.pkl']"
      ]
     },
     "execution_count": 6,
     "metadata": {},
     "output_type": "execute_result"
    }
   ],
   "source": [
    "model = CareerSkillModel(\"check_skill.csv\")\n",
    "\n",
    "joblib.dump(model, \"required_career_skill_model.pkl\")"
   ]
  },
  {
   "cell_type": "code",
   "execution_count": 7,
   "metadata": {},
   "outputs": [],
   "source": [
    "loaded_model = joblib.load(\"required_career_skill_model.pkl\")"
   ]
  },
  {
   "cell_type": "code",
   "execution_count": 8,
   "metadata": {},
   "outputs": [
    {
     "data": {
      "text/plain": [
       "{'Career': 'UI/UX Designer',\n",
       " 'Required Skills': {'Problem-Solving': np.float64(3.0),\n",
       "  'Analytical': np.float64(4.0),\n",
       "  'Artistic': np.float64(9.0)},\n",
       " 'Justification': 'Focused on design thinking and creativity; some logic for user flow analysis.'}"
      ]
     },
     "execution_count": 8,
     "metadata": {},
     "output_type": "execute_result"
    }
   ],
   "source": [
    "loaded_model.predict(\"UI/UX Designer\")"
   ]
  },
  {
   "cell_type": "code",
   "execution_count": null,
   "metadata": {},
   "outputs": [],
   "source": []
  }
 ],
 "metadata": {
  "kernelspec": {
   "display_name": "Python 3",
   "language": "python",
   "name": "python3"
  },
  "language_info": {
   "codemirror_mode": {
    "name": "ipython",
    "version": 3
   },
   "file_extension": ".py",
   "mimetype": "text/x-python",
   "name": "python",
   "nbconvert_exporter": "python",
   "pygments_lexer": "ipython3",
   "version": "3.13.1"
  },
  "orig_nbformat": 4
 },
 "nbformat": 4,
 "nbformat_minor": 2
}
